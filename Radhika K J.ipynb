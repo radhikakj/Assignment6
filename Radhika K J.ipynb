{
 "cells": [
  {
   "cell_type": "markdown",
   "id": "3573ea1d",
   "metadata": {},
   "source": [
    "## The given dataset contains price of second-hand Hyundai grand i10 car with respect to year of making. Find the best linear relationship between year andprice. Can you predict the possible price of a 2022 model second-hand grand i10?Please learn about lasso regression and create a model along with linear regression. Find out which one is performing better."
   ]
  },
  {
   "cell_type": "markdown",
   "id": "356cfbfa",
   "metadata": {},
   "source": [
    "## Importing required Libraries"
   ]
  },
  {
   "cell_type": "code",
   "execution_count": 63,
   "id": "e9579ecf",
   "metadata": {},
   "outputs": [],
   "source": [
    "import numpy as np\n",
    "import pandas as pd\n",
    "import matplotlib.pyplot as plt\n",
    "import seaborn as sns"
   ]
  },
  {
   "cell_type": "markdown",
   "id": "2dc4511f",
   "metadata": {},
   "source": [
    "## Load the dataset"
   ]
  },
  {
   "cell_type": "code",
   "execution_count": 64,
   "id": "0a588b34",
   "metadata": {},
   "outputs": [],
   "source": [
    " data=pd.read_csv(r\"C:\\Users\\Radhika K J\\Downloads\\car_age_price.csv\")"
   ]
  },
  {
   "cell_type": "code",
   "execution_count": 65,
   "id": "e81c162a",
   "metadata": {},
   "outputs": [
    {
     "data": {
      "text/html": [
       "<div>\n",
       "<style scoped>\n",
       "    .dataframe tbody tr th:only-of-type {\n",
       "        vertical-align: middle;\n",
       "    }\n",
       "\n",
       "    .dataframe tbody tr th {\n",
       "        vertical-align: top;\n",
       "    }\n",
       "\n",
       "    .dataframe thead th {\n",
       "        text-align: right;\n",
       "    }\n",
       "</style>\n",
       "<table border=\"1\" class=\"dataframe\">\n",
       "  <thead>\n",
       "    <tr style=\"text-align: right;\">\n",
       "      <th></th>\n",
       "      <th>Year</th>\n",
       "      <th>Price</th>\n",
       "    </tr>\n",
       "  </thead>\n",
       "  <tbody>\n",
       "    <tr>\n",
       "      <th>0</th>\n",
       "      <td>2018</td>\n",
       "      <td>465000</td>\n",
       "    </tr>\n",
       "    <tr>\n",
       "      <th>1</th>\n",
       "      <td>2019</td>\n",
       "      <td>755000</td>\n",
       "    </tr>\n",
       "    <tr>\n",
       "      <th>2</th>\n",
       "      <td>2019</td>\n",
       "      <td>700000</td>\n",
       "    </tr>\n",
       "    <tr>\n",
       "      <th>3</th>\n",
       "      <td>2018</td>\n",
       "      <td>465000</td>\n",
       "    </tr>\n",
       "    <tr>\n",
       "      <th>4</th>\n",
       "      <td>2018</td>\n",
       "      <td>465000</td>\n",
       "    </tr>\n",
       "    <tr>\n",
       "      <th>...</th>\n",
       "      <td>...</td>\n",
       "      <td>...</td>\n",
       "    </tr>\n",
       "    <tr>\n",
       "      <th>107</th>\n",
       "      <td>2016</td>\n",
       "      <td>375000</td>\n",
       "    </tr>\n",
       "    <tr>\n",
       "      <th>108</th>\n",
       "      <td>2014</td>\n",
       "      <td>300000</td>\n",
       "    </tr>\n",
       "    <tr>\n",
       "      <th>109</th>\n",
       "      <td>2015</td>\n",
       "      <td>425000</td>\n",
       "    </tr>\n",
       "    <tr>\n",
       "      <th>110</th>\n",
       "      <td>2016</td>\n",
       "      <td>420000</td>\n",
       "    </tr>\n",
       "    <tr>\n",
       "      <th>111</th>\n",
       "      <td>2015</td>\n",
       "      <td>425000</td>\n",
       "    </tr>\n",
       "  </tbody>\n",
       "</table>\n",
       "<p>112 rows × 2 columns</p>\n",
       "</div>"
      ],
      "text/plain": [
       "     Year   Price\n",
       "0    2018  465000\n",
       "1    2019  755000\n",
       "2    2019  700000\n",
       "3    2018  465000\n",
       "4    2018  465000\n",
       "..    ...     ...\n",
       "107  2016  375000\n",
       "108  2014  300000\n",
       "109  2015  425000\n",
       "110  2016  420000\n",
       "111  2015  425000\n",
       "\n",
       "[112 rows x 2 columns]"
      ]
     },
     "execution_count": 65,
     "metadata": {},
     "output_type": "execute_result"
    }
   ],
   "source": [
    "data"
   ]
  },
  {
   "cell_type": "markdown",
   "id": "4251b1da",
   "metadata": {},
   "source": [
    "## Checking the Null Values of the dataset"
   ]
  },
  {
   "cell_type": "code",
   "execution_count": 66,
   "id": "21aa06e6",
   "metadata": {},
   "outputs": [
    {
     "data": {
      "text/plain": [
       "Year     0\n",
       "Price    0\n",
       "dtype: int64"
      ]
     },
     "execution_count": 66,
     "metadata": {},
     "output_type": "execute_result"
    }
   ],
   "source": [
    "data .isna().sum()"
   ]
  },
  {
   "cell_type": "markdown",
   "id": "23db697c",
   "metadata": {},
   "source": [
    "## Checking Correlation between Year and Price"
   ]
  },
  {
   "cell_type": "code",
   "execution_count": 67,
   "id": "07c7e954",
   "metadata": {},
   "outputs": [
    {
     "data": {
      "image/png": "[encoded data removed]",
      "text/plain": [
       "<Figure size 640x480 with 2 Axes>"
      ]
     },
     "metadata": {},
     "output_type": "display_data"
    }
   ],
   "source": [
    "corr_matrix =data.corr()\n",
    "sns.heatmap(corr_matrix,annot=True,cmap ='Blues')\n",
    "plt.show()"
   ]
  },
  {
   "cell_type": "code",
   "execution_count": 68,
   "id": "a68071cd",
   "metadata": {},
   "outputs": [],
   "source": [
    "x = data.drop(['Price'],axis=1) ##independent variable i.e, predictor\n",
    "y = data['Price'] ##dependent variable i.e, target variable"
   ]
  },
  {
   "cell_type": "code",
   "execution_count": 69,
   "id": "8c87760b",
   "metadata": {},
   "outputs": [
    {
     "data": {
      "text/html": [
       "<div>\n",
       "<style scoped>\n",
       "    .dataframe tbody tr th:only-of-type {\n",
       "        vertical-align: middle;\n",
       "    }\n",
       "\n",
       "    .dataframe tbody tr th {\n",
       "        vertical-align: top;\n",
       "    }\n",
       "\n",
       "    .dataframe thead th {\n",
       "        text-align: right;\n",
       "    }\n",
       "</style>\n",
       "<table border=\"1\" class=\"dataframe\">\n",
       "  <thead>\n",
       "    <tr style=\"text-align: right;\">\n",
       "      <th></th>\n",
       "      <th>Year</th>\n",
       "    </tr>\n",
       "  </thead>\n",
       "  <tbody>\n",
       "    <tr>\n",
       "      <th>0</th>\n",
       "      <td>2018</td>\n",
       "    </tr>\n",
       "    <tr>\n",
       "      <th>1</th>\n",
       "      <td>2019</td>\n",
       "    </tr>\n",
       "    <tr>\n",
       "      <th>2</th>\n",
       "      <td>2019</td>\n",
       "    </tr>\n",
       "    <tr>\n",
       "      <th>3</th>\n",
       "      <td>2018</td>\n",
       "    </tr>\n",
       "    <tr>\n",
       "      <th>4</th>\n",
       "      <td>2018</td>\n",
       "    </tr>\n",
       "    <tr>\n",
       "      <th>...</th>\n",
       "      <td>...</td>\n",
       "    </tr>\n",
       "    <tr>\n",
       "      <th>107</th>\n",
       "      <td>2016</td>\n",
       "    </tr>\n",
       "    <tr>\n",
       "      <th>108</th>\n",
       "      <td>2014</td>\n",
       "    </tr>\n",
       "    <tr>\n",
       "      <th>109</th>\n",
       "      <td>2015</td>\n",
       "    </tr>\n",
       "    <tr>\n",
       "      <th>110</th>\n",
       "      <td>2016</td>\n",
       "    </tr>\n",
       "    <tr>\n",
       "      <th>111</th>\n",
       "      <td>2015</td>\n",
       "    </tr>\n",
       "  </tbody>\n",
       "</table>\n",
       "<p>112 rows × 1 columns</p>\n",
       "</div>"
      ],
      "text/plain": [
       "     Year\n",
       "0    2018\n",
       "1    2019\n",
       "2    2019\n",
       "3    2018\n",
       "4    2018\n",
       "..    ...\n",
       "107  2016\n",
       "108  2014\n",
       "109  2015\n",
       "110  2016\n",
       "111  2015\n",
       "\n",
       "[112 rows x 1 columns]"
      ]
     },
     "execution_count": 69,
     "metadata": {},
     "output_type": "execute_result"
    }
   ],
   "source": [
    "x"
   ]
  },
  {
   "cell_type": "code",
   "execution_count": 70,
   "id": "140a68af",
   "metadata": {},
   "outputs": [
    {
     "data": {
      "text/plain": [
       "0      465000\n",
       "1      755000\n",
       "2      700000\n",
       "3      465000\n",
       "4      465000\n",
       "        ...  \n",
       "107    375000\n",
       "108    300000\n",
       "109    425000\n",
       "110    420000\n",
       "111    425000\n",
       "Name: Price, Length: 112, dtype: int64"
      ]
     },
     "execution_count": 70,
     "metadata": {},
     "output_type": "execute_result"
    }
   ],
   "source": [
    "y"
   ]
  },
  {
   "cell_type": "code",
   "execution_count": 71,
   "id": "aed9e8a5",
   "metadata": {},
   "outputs": [],
   "source": [
    "from sklearn.model_selection import train_test_split ## import libraries "
   ]
  },
  {
   "cell_type": "code",
   "execution_count": 72,
   "id": "0b2df7cb",
   "metadata": {},
   "outputs": [],
   "source": [
    "x_train,x_test,y_train,y_test = train_test_split(x,y,test_size =0.2,random_state =42) ##splitting the data into training and testing data"
   ]
  },
  {
   "cell_type": "code",
   "execution_count": 73,
   "id": "2f374bdb",
   "metadata": {},
   "outputs": [],
   "source": [
    "##import linear regression and lasso regression from scikit learn\n",
    "from sklearn.linear_model import LinearRegression\n",
    "from sklearn.linear_model import Lasso"
   ]
  },
  {
   "cell_type": "code",
   "execution_count": 74,
   "id": "09a8d300",
   "metadata": {},
   "outputs": [
    {
     "name": "stdout",
     "output_type": "stream",
     "text": [
      "Linear Regression Score 0.36759313425902185\n"
     ]
    }
   ],
   "source": [
    "#train the model\n",
    "lr = LinearRegression()\n",
    "model = lr.fit(x_train,y_train)\n",
    "predictions = model.predict(x_test)\n",
    "print('Linear Regression Score',lr.score(x_test,y_test))##"
   ]
  },
  {
   "cell_type": "markdown",
   "id": "17a51c05",
   "metadata": {},
   "source": [
    "## Exploring our Results"
   ]
  },
  {
   "cell_type": "code",
   "execution_count": 75,
   "id": "6c70c476",
   "metadata": {},
   "outputs": [
    {
     "data": {
      "image/png": "[encoded data removed]",
      "text/plain": [
       "<Figure size 640x480 with 1 Axes>"
      ]
     },
     "metadata": {},
     "output_type": "display_data"
    }
   ],
   "source": [
    "y_pred =model.predict(x_test)\n",
    "plt.scatter (x_test,y_test,color ='b')\n",
    "plt.plot(x_test,y_pred,color ='k')\n",
    "plt.show()\n",
    "# Data Scatter of Predicted Values"
   ]
  },
  {
   "cell_type": "markdown",
   "id": "708ad7df",
   "metadata": {},
   "source": [
    "## The low accuracy score of our model suggests that our reggressive model has not fit very well with the existing data. This suggests that our data is not suitable for linear regression. But sometimes,a dataset may accept a linear regressor if we consider only a part of it.Let us check for that possibility."
   ]
  },
  {
   "cell_type": "markdown",
   "id": "976c6767",
   "metadata": {},
   "source": [
    "## Evaluation Metrics for Regression\n",
    "  Atlast , we check the performance of the Linear Regression model with help of evaluation metrics .For Regression algorithms we widely use mean absolute error and mean squared error metrics to check the model performance."
   ]
  },
  {
   "cell_type": "code",
   "execution_count": 76,
   "id": "08cf2f68",
   "metadata": {},
   "outputs": [
    {
     "name": "stdout",
     "output_type": "stream",
     "text": [
      "MAE: 53534.77957001264\n",
      "MSE: 4326906256.829671\n",
      "RMSE: 65779.22359552195\n"
     ]
    }
   ],
   "source": [
    "from sklearn.metrics import mean_absolute_error,mean_squared_error\n",
    "mae = mean_absolute_error(y_test,predictions)\n",
    "mse = mean_squared_error(y_test,predictions)\n",
    "rmse = mean_squared_error(y_test,predictions,squared= False)\n",
    "print('MAE:',mae)\n",
    "print('MSE:',mse)\n",
    "print('RMSE:',rmse)"
   ]
  },
  {
   "cell_type": "markdown",
   "id": "f6ad025b",
   "metadata": {},
   "source": [
    "## Lasso Regression"
   ]
  },
  {
   "cell_type": "code",
   "execution_count": 77,
   "id": "c1909817",
   "metadata": {},
   "outputs": [
    {
     "name": "stdout",
     "output_type": "stream",
     "text": [
      "MSE for Lasso Regression training data: 55743.0286777069\n",
      "R2 for Lasso REgression training data: 0.6389354253755748\n",
      "MSE for Lasso Regression testing Data: 65779.22006201117\n",
      "R2 for Lasso Regression Testing Data: 0.3675932022019466\n",
      "Model Score for Lasso Regression: 0.3675999284778446\n"
     ]
    }
   ],
   "source": [
    "model_lasso =  Lasso(alpha =0.01)\n",
    "model_lasso.fit(x_train,y_train)\n",
    "pred_train_lasso = model_lasso.predict(x_train)\n",
    "print('MSE for Lasso Regression training data:',np.sqrt(mean_squared_error(y_train,pred_train_lasso)))\n",
    "print('R2 for Lasso REgression training data:',r2_score(y_train,pred_train_lasso))\n",
    "\n",
    "pred_test_lasso = model_lasso.predict(x_test)\n",
    "print('MSE for Lasso Regression testing Data:',np.sqrt(mean_squared_error(y_test,pred_test_lasso)))\n",
    "print('R2 for Lasso Regression Testing Data:',r2_score(y_test,pred_test_lasso))\n",
    "print('Model Score for Lasso Regression:',lasso.score(x_test,y_test))"
   ]
  },
  {
   "cell_type": "code",
   "execution_count": 78,
   "id": "225a3518",
   "metadata": {},
   "outputs": [
    {
     "data": {
      "image/png": "[encoded data removed]",
      "text/plain": [
       "<Figure size 640x480 with 1 Axes>"
      ]
     },
     "metadata": {},
     "output_type": "display_data"
    }
   ],
   "source": [
    "y_pred_lasso =lasso.predict(x_test)\n",
    "plt.scatter (x_test,y_test,color ='b')\n",
    "plt.plot(x_test,y_pred_lasso,color ='k')\n",
    "plt.show()\n",
    "# Data Scatter of Predicted Values"
   ]
  },
  {
   "cell_type": "markdown",
   "id": "3d45db47",
   "metadata": {},
   "source": [
    "## The low accuracy score of our model suggests that our reggressive model has not fit very well with the existing data. This suggests that our data is not suitable for lasso regression. But sometimes,a dataset may accept a lasso regressor if we consider only a part of it."
   ]
  },
  {
   "cell_type": "markdown",
   "id": "d921f3bd",
   "metadata": {},
   "source": [
    "## Prediction Price of a Car in 2022"
   ]
  },
  {
   "cell_type": "code",
   "execution_count": 81,
   "id": "08f454ef",
   "metadata": {},
   "outputs": [
    {
     "name": "stderr",
     "output_type": "stream",
     "text": [
      "C:\\Users\\Radhika K J\\anaconda3\\lib\\site-packages\\sklearn\\base.py:420: UserWarning: X does not have valid feature names, but LinearRegression was fitted with feature names\n",
      "  warnings.warn(\n"
     ]
    }
   ],
   "source": [
    "target_year = [[2022]]\n",
    "pred_year = model.predict(target_year)"
   ]
  },
  {
   "cell_type": "code",
   "execution_count": 82,
   "id": "501a2d4f",
   "metadata": {},
   "outputs": [
    {
     "name": "stdout",
     "output_type": "stream",
     "text": [
      "Predicted Price of a car in 2022: [743601.61594504]\n"
     ]
    }
   ],
   "source": [
    "print('Predicted Price of a car in 2022:',pred_year)"
   ]
  },
  {
   "cell_type": "markdown",
   "id": "900869bb",
   "metadata": {},
   "source": [
    "## Conclusion:\n",
    "In this Dataset ,the linear regression score and lasso regression score both are low accuracy score as we checked.Our Regressive model has not fit very well with existing data.This suggests that our data is not suitable for both regression."
   ]
  },
  {
   "cell_type": "code",
   "execution_count": null,
   "id": "d21aa5af",
   "metadata": {},
   "outputs": [],
   "source": []
  }
 ],
 "metadata": {
  "kernelspec": {
   "display_name": "Python 3 (ipykernel)",
   "language": "python",
   "name": "python3"
  },
  "language_info": {
   "codemirror_mode": {
    "name": "ipython",
    "version": 3
   },
   "file_extension": ".py",
   "mimetype": "text/x-python",
   "name": "python",
   "nbconvert_exporter": "python",
   "pygments_lexer": "ipython3",
   "version": "3.10.9"
  }
 },
 "nbformat": 4,
 "nbformat_minor": 5
}
